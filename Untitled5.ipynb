{
 "cells": [
  {
   "cell_type": "code",
   "execution_count": 1,
   "id": "7a101767-d95b-4d71-92c4-1989afb77abb",
   "metadata": {},
   "outputs": [],
   "source": [
    "import pandas as pd"
   ]
  },
  {
   "cell_type": "code",
   "execution_count": 7,
   "id": "ce29b09b-245d-4ba8-8120-f1d62adce646",
   "metadata": {},
   "outputs": [],
   "source": [
    "products_df = pd.DataFrame({\n",
    "    'Product_ID': [1, 2, 3],\n",
    "    'Product_Name': ['iPhone 12', 'Samsung S21', 'Pixel 5'],\n",
    "    'Product_Price': [999, 899, 699],\n",
    "})\n",
    "sales_df = pd.DataFrame({\n",
    "    'Sale_ID': [1, 2, 3, 4, 5, 6, 7],\n",
    "    'Sale_Date': pd.to_datetime([\n",
    "        '2021-01-01', '2021-02-01', '2021-02-15', '2020-03-01', \n",
    "        '2020-04-01', '2020-02-15', '2020-01-01'\n",
    "    ]),\n",
    "    'Customer_ID': [1, 2, 3, 2, 3, 4, 4],\n",
    "    'Product_ID': [1, 1, 2, 2, 3, 3, 1],\n",
    "})\n",
    "customers_df = pd.DataFrame({\n",
    "    'Customer_ID': [1, 2, 3, 4],\n",
    "    'Customer_Name': ['John Doe', 'Jane Doe', 'Jim Brown', 'Jake Smith'],\n",
    "    'Customer_Age': [25, 30, 35, 20],\n",
    "    'Customer_Email': ['john@doe.com', 'jane@doe.com', 'jim@brown.com', 'jake@smith.com'],\n",
    "})"
   ]
  },
  {
   "cell_type": "code",
   "execution_count": 9,
   "id": "c024d0a1-3860-4f3b-8b43-6d89f98f1fe3",
   "metadata": {},
   "outputs": [
    {
     "name": "stdout",
     "output_type": "stream",
     "text": [
      "  Product_Name  Customer_Count  Average_Age\n",
      "0      Pixel 5               2         27.5\n",
      "1  Samsung S21               2         32.5\n",
      "2    iPhone 12               3         25.0\n"
     ]
    }
   ],
   "source": [
    "sales_customers = sales_df.merge(customers_df, on='Customer_ID')\n",
    "sales_customers_products = sales_customers.merge(products_df, on='Product_ID')\n",
    "customer_stats = sales_customers_products.groupby('Product_Name').agg(\n",
    "    Customer_Count=('Customer_ID', pd.Series.nunique),\n",
    "    Average_Age=('Customer_Age', 'mean')\n",
    ").reset_index()\n",
    "\n",
    "print(customer_stats)"
   ]
  },
  {
   "cell_type": "code",
   "execution_count": 11,
   "id": "5c347597-71da-463e-9744-5106b0a4da91",
   "metadata": {},
   "outputs": [
    {
     "name": "stdout",
     "output_type": "stream",
     "text": [
      "   Year Product_Name  Sales_Count\n",
      "0  2020      Pixel 5            2\n",
      "1  2020  Samsung S21            1\n",
      "2  2020    iPhone 12            1\n",
      "3  2021  Samsung S21            1\n",
      "4  2021    iPhone 12            2\n"
     ]
    }
   ],
   "source": [
    "sales_df['Year'] = sales_df['Sale_Date'].dt.year\n",
    "sales_with_products = sales_df.merge(products_df, on='Product_ID')\n",
    "sales_per_year = sales_with_products.groupby(['Year', 'Product_Name']).agg(\n",
    "    Sales_Count=('Sale_ID', 'count')\n",
    ").reset_index()\n",
    "\n",
    "print(sales_per_year)"
   ]
  },
  {
   "cell_type": "code",
   "execution_count": 15,
   "id": "0765abfa-4fe5-425e-ac3a-7280fe5511ab",
   "metadata": {},
   "outputs": [
    {
     "data": {
      "text/html": [
       "<div>\n",
       "<style scoped>\n",
       "    .dataframe tbody tr th:only-of-type {\n",
       "        vertical-align: middle;\n",
       "    }\n",
       "\n",
       "    .dataframe tbody tr th {\n",
       "        vertical-align: top;\n",
       "    }\n",
       "\n",
       "    .dataframe thead th {\n",
       "        text-align: right;\n",
       "    }\n",
       "</style>\n",
       "<table border=\"1\" class=\"dataframe\">\n",
       "  <thead>\n",
       "    <tr style=\"text-align: right;\">\n",
       "      <th></th>\n",
       "      <th>Account Number</th>\n",
       "      <th>Company</th>\n",
       "      <th>Contact</th>\n",
       "      <th>Account Manager</th>\n",
       "      <th>Product</th>\n",
       "      <th>Licenses</th>\n",
       "      <th>Sale Price</th>\n",
       "      <th>Status</th>\n",
       "    </tr>\n",
       "  </thead>\n",
       "  <tbody>\n",
       "    <tr>\n",
       "      <th>0</th>\n",
       "      <td>2123398</td>\n",
       "      <td>Google</td>\n",
       "      <td>Larry Pager</td>\n",
       "      <td>Edward Thorp</td>\n",
       "      <td>Analytics</td>\n",
       "      <td>150</td>\n",
       "      <td>2100000</td>\n",
       "      <td>Presented</td>\n",
       "    </tr>\n",
       "    <tr>\n",
       "      <th>1</th>\n",
       "      <td>2123398</td>\n",
       "      <td>Google</td>\n",
       "      <td>Larry Pager</td>\n",
       "      <td>Edward Thorp</td>\n",
       "      <td>Prediction</td>\n",
       "      <td>150</td>\n",
       "      <td>700000</td>\n",
       "      <td>Presented</td>\n",
       "    </tr>\n",
       "    <tr>\n",
       "      <th>2</th>\n",
       "      <td>2123398</td>\n",
       "      <td>Google</td>\n",
       "      <td>Larry Pager</td>\n",
       "      <td>Edward Thorp</td>\n",
       "      <td>Tracking</td>\n",
       "      <td>300</td>\n",
       "      <td>350000</td>\n",
       "      <td>Under Review</td>\n",
       "    </tr>\n",
       "    <tr>\n",
       "      <th>3</th>\n",
       "      <td>2192650</td>\n",
       "      <td>BOBO</td>\n",
       "      <td>Larry Pager</td>\n",
       "      <td>Edward Thorp</td>\n",
       "      <td>Analytics</td>\n",
       "      <td>150</td>\n",
       "      <td>2450000</td>\n",
       "      <td>Lost</td>\n",
       "    </tr>\n",
       "    <tr>\n",
       "      <th>4</th>\n",
       "      <td>420496</td>\n",
       "      <td>IKEA</td>\n",
       "      <td>Elon Tusk</td>\n",
       "      <td>Edward Thorp</td>\n",
       "      <td>Analytics</td>\n",
       "      <td>300</td>\n",
       "      <td>4550000</td>\n",
       "      <td>Won</td>\n",
       "    </tr>\n",
       "  </tbody>\n",
       "</table>\n",
       "</div>"
      ],
      "text/plain": [
       "   Account Number  Company      Contact Account Manager     Product  Licenses  \\\n",
       "0         2123398   Google  Larry Pager    Edward Thorp   Analytics       150   \n",
       "1         2123398   Google  Larry Pager    Edward Thorp  Prediction       150   \n",
       "2         2123398   Google  Larry Pager    Edward Thorp    Tracking       300   \n",
       "3         2192650     BOBO  Larry Pager    Edward Thorp   Analytics       150   \n",
       "4          420496     IKEA    Elon Tusk    Edward Thorp   Analytics       300   \n",
       "\n",
       "   Sale Price        Status  \n",
       "0     2100000     Presented  \n",
       "1      700000     Presented  \n",
       "2      350000  Under Review  \n",
       "3     2450000          Lost  \n",
       "4     4550000           Won  "
      ]
     },
     "execution_count": 15,
     "metadata": {},
     "output_type": "execute_result"
    }
   ],
   "source": [
    "sales = pd.read_csv('Sales_Funnel_CRM.csv')\n",
    "sales.head(5)"
   ]
  },
  {
   "cell_type": "code",
   "execution_count": 17,
   "id": "ccf2c173-1fbc-4e55-8362-e2bd8483d1f4",
   "metadata": {},
   "outputs": [
    {
     "name": "stdout",
     "output_type": "stream",
     "text": [
      "Product       Analytics  GPS Positioning  Prediction  Tracking\n",
      "Company                                                       \n",
      " Google             150                0         150       300\n",
      "ATT                   0                0         150       150\n",
      "Apple               300                0           0         0\n",
      "BOBO                150                0           0         0\n",
      "CVS Health            0                0           0       450\n",
      "Cisco               300              300           0         0\n",
      "Exxon Mobile        150                0           0         0\n",
      "IKEA                300                0           0         0\n",
      "Microsoft             0                0           0       300\n",
      "Salesforce          750                0           0         0\n",
      "Tesla Inc.          300                0         150         0\n",
      "Walmart             150                0           0         0\n"
     ]
    }
   ],
   "source": [
    "licenses_by_company_product = pd.pivot_table(\n",
    "    sales,\n",
    "    index='Company',\n",
    "    columns='Product',\n",
    "    values='Licenses',\n",
    "    aggfunc='sum',\n",
    "    fill_value=0\n",
    ")\n",
    "\n",
    "print(licenses_by_company_product)"
   ]
  },
  {
   "cell_type": "code",
   "execution_count": 19,
   "id": "6d7c71c2-3093-4c6c-ae01-682cf4a344f1",
   "metadata": {},
   "outputs": [
    {
     "name": "stdout",
     "output_type": "stream",
     "text": [
      "         Company  Licenses  Sale Price\n",
      "0         Google       600     3150000\n",
      "1            ATT       300     1050000\n",
      "2          Apple       300     4550000\n",
      "3           BOBO       150     2450000\n",
      "4     CVS Health       450      490000\n",
      "5          Cisco       600     4900000\n",
      "6   Exxon Mobile       150     2100000\n",
      "7           IKEA       300     4550000\n",
      "8      Microsoft       300      350000\n",
      "9     Salesforce       750     7000000\n",
      "10    Tesla Inc.       450     3500000\n",
      "11       Walmart       150     2450000\n"
     ]
    }
   ],
   "source": [
    "summary_df = sales[['Company', 'Licenses', 'Sale Price']]\n",
    "\n",
    "company_totals = summary_df.groupby('Company').agg({\n",
    "    'Licenses': 'sum',\n",
    "    'Sale Price': 'sum'\n",
    "}).reset_index()\n",
    "\n",
    "print(company_totals)"
   ]
  },
  {
   "cell_type": "code",
   "execution_count": 29,
   "id": "7ac851cd-75c7-428a-aabd-286d9efc8ae4",
   "metadata": {},
   "outputs": [],
   "source": [
    "import numpy as np\n",
    "import matplotlib.pyplot as plt"
   ]
  },
  {
   "cell_type": "code",
   "execution_count": 41,
   "id": "e5bfbd51-0c80-4682-94b8-cda19419d647",
   "metadata": {},
   "outputs": [
    {
     "data": {
      "image/png": "[encoded data removed]",
      "text/plain": [
       "<Figure size 1000x600 with 2 Axes>"
      ]
     },
     "metadata": {},
     "output_type": "display_data"
    }
   ],
   "source": [
    "x = np.arange(0, 5.1, 0.1)\n",
    "y_sin = np.sin(x)\n",
    "y_cos = np.cos(x)\n",
    "plt.figure(figsize=(10, 6))\n",
    "\n",
    "plt.subplot(2, 1, 1)  \n",
    "plt.plot(x, y_sin, color='blue', label='sin(x)')\n",
    "plt.title('Sine Function')\n",
    "plt.xlabel('X Values')\n",
    "plt.ylabel('sin(X)')\n",
    "plt.grid(True)\n",
    "plt.legend()\n",
    "\n",
    "plt.subplot(2, 1, 2)  \n",
    "plt.plot(x, y_cos, color='green', label='cos(x)')\n",
    "plt.title('Cosine Function')\n",
    "plt.xlabel('X Values')\n",
    "plt.ylabel('cos(X)')\n",
    "plt.grid(True)\n",
    "plt.legend()\n",
    "\n",
    "plt.tight_layout(pad=3.0)  \n",
    "plt.show()"
   ]
  }
 ],
 "metadata": {
  "kernelspec": {
   "display_name": "Python [conda env:base] *",
   "language": "python",
   "name": "conda-base-py"
  },
  "language_info": {
   "codemirror_mode": {
    "name": "ipython",
    "version": 3
   },
   "file_extension": ".py",
   "mimetype": "text/x-python",
   "name": "python",
   "nbconvert_exporter": "python",
   "pygments_lexer": "ipython3",
   "version": "3.12.7"
  }
 },
 "nbformat": 4,
 "nbformat_minor": 5
}
